{
 "cells": [
  {
   "cell_type": "markdown",
   "id": "074a2ccd",
   "metadata": {},
   "source": [
    "# Data Science Tools and Ecosystems"
   ]
  },
  {
   "cell_type": "markdown",
   "id": "ac449b47",
   "metadata": {},
   "source": [
    "In this notebook, Data Scinece Tools and Ecosystems are summarized."
   ]
  },
  {
   "cell_type": "markdown",
   "id": "ca8b9aa6",
   "metadata": {},
   "source": [
    "**Objectives:**\n",
    "    \n",
    "    +List popular Data Science languages\n",
    "    +List popular Data Science libraries\n",
    "    +List Data Science Tools"
   ]
  },
  {
   "cell_type": "markdown",
   "id": "b6ecbaae",
   "metadata": {},
   "source": [
    "Some of the popular languages Data Scientists use include:\n",
    "    \n",
    "    1.Python\n",
    "    2.R\n",
    "    3.Java\n",
    "    4.C++"
   ]
  },
  {
   "cell_type": "markdown",
   "id": "6bf83842",
   "metadata": {},
   "source": [
    "Some of the commonly used libraries by Data Scinetists include:\n",
    "    \n",
    "    1.Numpy\n",
    "    2.Matplotlib\n",
    "    3.Scala\n",
    "    4.Scikit-learn"
   ]
  },
  {
   "cell_type": "markdown",
   "id": "138feec2",
   "metadata": {},
   "source": [
    "| Data Science Tools |\n",
    "| ------------------ |\n",
    "| 1.Google Colaboratory |\n",
    "| 2.Jupyter Notebook |\n",
    "| 3.Visual Studio Code |"
   ]
  },
  {
   "cell_type": "markdown",
   "id": "54122caf",
   "metadata": {},
   "source": [
    "### Below are a few examples of evaluating arithmetic expressions in Python."
   ]
  },
  {
   "cell_type": "code",
   "execution_count": 1,
   "id": "5a257279",
   "metadata": {},
   "outputs": [
    {
     "data": {
      "text/plain": [
       "17"
      ]
     },
     "execution_count": 1,
     "metadata": {},
     "output_type": "execute_result"
    }
   ],
   "source": [
    "#This is a simple arithmetic expression to multiply then add integers\n",
    "(3*4)+5\n"
   ]
  },
  {
   "cell_type": "code",
   "execution_count": 2,
   "id": "ca048cf0",
   "metadata": {},
   "outputs": [
    {
     "data": {
      "text/plain": [
       "3.3333333333333335"
      ]
     },
     "execution_count": 2,
     "metadata": {},
     "output_type": "execute_result"
    }
   ],
   "source": [
    "# This will convert 200 minutes to hours by dividing by 60 \n",
    "200/60"
   ]
  },
  {
   "cell_type": "markdown",
   "id": "c22e0a6c",
   "metadata": {},
   "source": [
    "## Author\n",
    "ARTUR"
   ]
  },
  {
   "cell_type": "code",
   "execution_count": null,
   "id": "26976747",
   "metadata": {},
   "outputs": [],
   "source": []
  }
 ],
 "metadata": {
  "kernelspec": {
   "display_name": "Python 3 (ipykernel)",
   "language": "python",
   "name": "python3"
  },
  "language_info": {
   "codemirror_mode": {
    "name": "ipython",
    "version": 3
   },
   "file_extension": ".py",
   "mimetype": "text/x-python",
   "name": "python",
   "nbconvert_exporter": "python",
   "pygments_lexer": "ipython3",
   "version": "3.9.13"
  }
 },
 "nbformat": 4,
 "nbformat_minor": 5
}
